{
 "cells": [
  {
   "cell_type": "code",
   "execution_count": null,
   "metadata": {
    "scrolled": true
   },
   "outputs": [],
   "source": [
    "import Augmentor"
   ]
  },
  {
   "cell_type": "code",
   "execution_count": null,
   "metadata": {
    "scrolled": true
   },
   "outputs": [],
   "source": [
    "START = 1\n",
    "END = 65"
   ]
  },
  {
   "cell_type": "code",
   "execution_count": null,
   "metadata": {
    "scrolled": true
   },
   "outputs": [],
   "source": [
    "for i in range(START,END):\n",
    "    print(\"AUGMENTING CLASS\", i)\n",
    "    INPUT_DIR = \"data2/train/\"+str(i)+\"/\"\n",
    "    OUTPUT_DIR = \"../../../train_aug/\"+str(i)+\"/\"\n",
    "    p = Augmentor.Pipeline(INPUT_DIR, output_directory=OUTPUT_DIR)\n",
    "    p.shear(probability=0.3, max_shear_left=1, max_shear_right=1)\n",
    "    p.rotate(probability=0.6, max_left_rotation=5, max_right_rotation=5)\n",
    "    p.zoom(probability=0.6, min_factor=1.05, max_factor=1.2)\n",
    "    p.random_color(probability=0.8, min_factor=0.5, max_factor=1.5)\n",
    "    p.random_contrast(probability=0.8, min_factor=0.6, max_factor=1.4)\n",
    "    p.random_brightness(probability=0.8, min_factor=0.6, max_factor=1.4)\n",
    "    p.process()\n",
    "    p.sample(800)"
   ]
  },
  {
   "cell_type": "code",
   "execution_count": null,
   "metadata": {
    "scrolled": true
   },
   "outputs": [],
   "source": [
    "for i in range(START,END):\n",
    "    print(\"AUGMENTING CLASS\", i)\n",
    "    INPUT_DIR = \"data2/train/\"+str(i)+\"/\"\n",
    "    OUTPUT_DIR = \"../../../train_aug/\"+str(i)+\"/\"\n",
    "    p = Augmentor.Pipeline(INPUT_DIR, output_directory=OUTPUT_DIR)\n",
    "    p.rotate(probability=0.6, max_left_rotation=3, max_right_rotation=3)\n",
    "    p.shear(probability=0.3, max_shear_left=1, max_shear_right=1)\n",
    "    p.greyscale(probability=1.0)\n",
    "    p.zoom(probability=0.6, min_factor=1.05, max_factor=1.15)\n",
    "    p.sample(200)"
   ]
  }
 ],
 "metadata": {
  "kernelspec": {
   "display_name": "Python 3",
   "language": "python",
   "name": "python3"
  },
  "language_info": {
   "codemirror_mode": {
    "name": "ipython",
    "version": 3
   },
   "file_extension": ".py",
   "mimetype": "text/x-python",
   "name": "python",
   "nbconvert_exporter": "python",
   "pygments_lexer": "ipython3",
   "version": "3.5.2"
  }
 },
 "nbformat": 4,
 "nbformat_minor": 2
}
