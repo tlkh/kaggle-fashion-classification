{
 "cells": [
  {
   "cell_type": "code",
   "execution_count": null,
   "metadata": {},
   "outputs": [],
   "source": [
    "from keras.preprocessing import image\n",
    "from keras.preprocessing.image import ImageDataGenerator, array_to_img, img_to_array, load_img\n",
    "from keras.models import Model, load_model\n",
    "from keras.layers import *\n",
    "from keras import backend as K\n",
    "from keras import optimizers, callbacks, regularizers\n",
    "import numpy as np\n",
    "import pandas as pd\n",
    "import cv2, h5py"
   ]
  },
  {
   "cell_type": "code",
   "execution_count": null,
   "metadata": {},
   "outputs": [],
   "source": [
    "BATCH_SIZE = 128\n",
    "INPUT_SIZE = (299,299)\n",
    "print(\"Batch size:\", BATCH_SIZE)"
   ]
  },
  {
   "cell_type": "code",
   "execution_count": null,
   "metadata": {},
   "outputs": [],
   "source": [
    "train_datagen = ImageDataGenerator(rescale=1./255, horizontal_flip=True)\n",
    "train_generator = train_a_datagen.flow_from_directory('data2/train',\n",
    "                                                      target_size=INPUT_SIZE,\n",
    "                                                      batch_size=BATCH_SIZE)\n",
    "\n",
    "train_aug_datagen = ImageDataGenerator(rotation_range=3,\n",
    "                                       width_shift_range=0.1,\n",
    "                                       height_shift_range=0.1,\n",
    "                                       rescale=1./255,\n",
    "                                       shear_range=0.1,\n",
    "                                       zoom_range=0.2,\n",
    "                                       horizontal_flip=True,\n",
    "                                       fill_mode='nearest')\n",
    "train_aug_generator = train_b_datagen.flow_from_directory('data2/train',\n",
    "                                                          target_size=INPUT_SIZE,\n",
    "                                                          batch_size=BATCH_SIZE,\n",
    "                                                          class_mode='categorical')\n",
    "\n",
    "train_maxaug_datagen = ImageDataGenerator(rotation_range=3,\n",
    "                                          width_shift_range=0.1,\n",
    "                                          height_shift_range=0.1,\n",
    "                                          rescale=1./255,\n",
    "                                          shear_range=0.1,\n",
    "                                          zoom_range=0.2,\n",
    "                                          horizontal_flip=True,\n",
    "                                          fill_mode='nearest')\n",
    "train_maxaug_generator = train_b_datagen.flow_from_directory('train_aug',\n",
    "                                                          target_size=INPUT_SIZE,\n",
    "                                                          batch_size=BATCH_SIZE,\n",
    "                                                          class_mode='categorical')"
   ]
  },
  {
   "cell_type": "code",
   "execution_count": null,
   "metadata": {},
   "outputs": [],
   "source": [
    "validation_datagen = ImageDataGenerator(rescale=1./255)\n",
    "validation_generator = validation_datagen.flow_from_directory(\n",
    "    'data2/validation',\n",
    "    target_size=INPUT_SIZE,\n",
    "    batch_size=BATCH_SIZE,\n",
    "    class_mode='categorical')"
   ]
  },
  {
   "cell_type": "markdown",
   "metadata": {},
   "source": [
    "**Model**"
   ]
  },
  {
   "cell_type": "code",
   "execution_count": null,
   "metadata": {},
   "outputs": [],
   "source": [
    "from keras.applications.xception import Xception\n",
    "\n",
    "input_tensor = Input(shape=(INPUT_SIZE[0], INPUT_SIZE[1], 3)) # input image\n",
    "\n",
    "print(\"Building base model for Xception...\")\n",
    "xception_base = Xception(input_tensor=input_tensor, weights='imagenet', include_top=False)\n",
    "features_xception = GlobalAveragePooling2D()(xception_base.output)\n",
    "print(\"Done!\")"
   ]
  },
  {
   "cell_type": "code",
   "execution_count": null,
   "metadata": {},
   "outputs": [],
   "source": [
    "x = Dense(1024, activation='relu', kernel_regularizer=regularizers.l2(0.00))(features_xception)\n",
    "#x = Dropout(0.3)(x)\n",
    "#x = BatchNormalization()(x)\n",
    "predictions = Dense(128, activation='softmax')(x)\n",
    "\n",
    "model = Model(inputs=input_tensor, outputs=predictions)"
   ]
  },
  {
   "cell_type": "code",
   "execution_count": null,
   "metadata": {},
   "outputs": [],
   "source": [
    "def set_trainable(boolean):\n",
    "    global xception_base, inceptionresnet_base, inception_base\n",
    "    for layer in xception_base.layers[:46]:\n",
    "        layer.trainable = False\n",
    "    for layer in xception_base.layers[46:]:\n",
    "        layer.trainable = boolean\n",
    "        \n",
    "set_trainable(False) # default"
   ]
  },
  {
   "cell_type": "markdown",
   "metadata": {},
   "source": [
    "**Training**"
   ]
  },
  {
   "cell_type": "code",
   "execution_count": null,
   "metadata": {},
   "outputs": [],
   "source": [
    "tensorboard = callbacks.TensorBoard(log_dir='./logs', histogram_freq=0, batch_size=16,\n",
    "                                    write_grads=True , write_graph=True)\n",
    "checkpoints = callbacks.ModelCheckpoint(\"inceptionresnet-{val_loss:.3f}-{val_acc:.3f}.h5\",\n",
    "                                              monitor='val_loss', verbose=1, save_best_only=True,\n",
    "                                              save_weights_only=False, mode='auto', period=0)\n",
    "reduce_on_plateau = callbacks.ReduceLROnPlateau(monitor='val_loss', factor=0.1, patience=6, verbose=1,\n",
    "                                      mode='auto', min_delta=0.0001, cooldown=0, min_lr=0)"
   ]
  },
  {
   "cell_type": "code",
   "execution_count": null,
   "metadata": {},
   "outputs": [],
   "source": [
    "adadelta = optimizers.Adadelta(lr=2.0, rho=0.95, epsilon=None, decay=0)\n",
    "sgd = optimizers.SGD(lr=0.1, momentum=0.6, decay=0.2, nesterov=True)"
   ]
  },
  {
   "cell_type": "code",
   "execution_count": null,
   "metadata": {},
   "outputs": [],
   "source": [
    "model.compile(loss='categorical_crossentropy',\n",
    "              optimizer=adadelta,\n",
    "              metrics=['acc'])"
   ]
  },
  {
   "cell_type": "code",
   "execution_count": null,
   "metadata": {
    "scrolled": true
   },
   "outputs": [],
   "source": [
    "model.summary()"
   ]
  },
  {
   "cell_type": "code",
   "execution_count": null,
   "metadata": {},
   "outputs": [],
   "source": [
    "!nvidia-settings -a [gpu:0]/GPUFanControlState=1\n",
    "!nvidia-settings -a [fan:0]/GPUTargetFanSpeed=90\n",
    "!rm -R logs"
   ]
  },
  {
   "cell_type": "code",
   "execution_count": null,
   "metadata": {},
   "outputs": [],
   "source": [
    "print(\"Training Progress:\")\n",
    "model_log = model.fit_generator(train_a_generator, validation_data=validation_generator,\n",
    "          epochs=1, workers=5, use_multiprocessing=True,\n",
    "          callbacks=[checkpoints])\n",
    "model_log = model.fit_generator(train_b_generator, validation_data=validation_generator,\n",
    "          epochs=1, workers=5, use_multiprocessing=True,\n",
    "          callbacks=[checkpoints])"
   ]
  },
  {
   "cell_type": "code",
   "execution_count": null,
   "metadata": {
    "scrolled": true
   },
   "outputs": [],
   "source": [
    "model.compile(loss='categorical_crossentropy',\n",
    "              optimizer=sgd,\n",
    "              metrics=['acc'])\n",
    "print(\"Training Progress:\")\n",
    "model_log = model.fit_generator(train_b_generator, validation_data=validation_generator,\n",
    "          epochs=2, workers=5, use_multiprocessing=True,\n",
    "          callbacks=[checkpoints])\n",
    "model_log = model.fit_generator(train_a_generator, validation_data=validation_generator,\n",
    "          epochs=2, workers=5, use_multiprocessing=True,\n",
    "          callbacks=[checkpoints])"
   ]
  },
  {
   "cell_type": "code",
   "execution_count": null,
   "metadata": {},
   "outputs": [],
   "source": [
    "!nvidia-settings -a [gpu:0]/GPUFanControlState=0"
   ]
  },
  {
   "cell_type": "markdown",
   "metadata": {},
   "source": [
    "**Fine-tuning**"
   ]
  },
  {
   "cell_type": "code",
   "execution_count": null,
   "metadata": {},
   "outputs": [],
   "source": [
    "BATCH_SIZE = 44\n",
    "\n",
    "train_datagen = ImageDataGenerator(rescale=1./255, horizontal_flip=True)\n",
    "train_generator = train_a_datagen.flow_from_directory('data2/train',\n",
    "                                                      target_size=INPUT_SIZE,\n",
    "                                                      batch_size=BATCH_SIZE)\n",
    "\n",
    "train_aug_datagen = ImageDataGenerator(rotation_range=3,\n",
    "                                       width_shift_range=0.1,\n",
    "                                       height_shift_range=0.1,\n",
    "                                       rescale=1./255,\n",
    "                                       shear_range=0.1,\n",
    "                                       zoom_range=0.2,\n",
    "                                       horizontal_flip=True,\n",
    "                                       fill_mode='nearest')\n",
    "train_aug_generator = train_b_datagen.flow_from_directory('data2/train',\n",
    "                                                          target_size=INPUT_SIZE,\n",
    "                                                          batch_size=BATCH_SIZE,\n",
    "                                                          class_mode='categorical')\n",
    "\n",
    "train_maxaug_datagen = ImageDataGenerator(rotation_range=3,\n",
    "                                          width_shift_range=0.1,\n",
    "                                          height_shift_range=0.1,\n",
    "                                          rescale=1./255,\n",
    "                                          shear_range=0.1,\n",
    "                                          zoom_range=0.2,\n",
    "                                          horizontal_flip=True,\n",
    "                                          fill_mode='nearest')\n",
    "train_maxaug_generator = train_b_datagen.flow_from_directory('train_aug',\n",
    "                                                          target_size=INPUT_SIZE,\n",
    "                                                          batch_size=BATCH_SIZE,\n",
    "                                                          class_mode='categorical')\n",
    "    \n",
    "validation_datagen = ImageDataGenerator(rescale=1./255)\n",
    "validation_generator = validation_datagen.flow_from_directory(\n",
    "    'data2/validation',\n",
    "    target_size=INPUT_SIZE,\n",
    "    batch_size=BATCH_SIZE,\n",
    "    class_mode='categorical')"
   ]
  },
  {
   "cell_type": "code",
   "execution_count": null,
   "metadata": {
    "scrolled": true
   },
   "outputs": [],
   "source": [
    "!nvidia-settings -a [gpu:0]/GPUFanControlState=1\n",
    "!nvidia-settings -a [fan:0]/GPUTargetFanSpeed=90"
   ]
  },
  {
   "cell_type": "code",
   "execution_count": null,
   "metadata": {
    "scrolled": false
   },
   "outputs": [],
   "source": [
    "sgd_low = optimizers.SGD(lr=0.1, momentum=0.3, decay=0.3, nesterov=False)\n",
    "options = [[True, train_a_generator, sgd_low], [True, train_b_generator, sgd_low], [True, train_a_generator, sgd_low]]\n",
    "for option in options:\n",
    "    set_trainable(option[0])\n",
    "    model.compile(optimizer=option[2], loss='categorical_crossentropy',metrics=['acc'])\n",
    "    print(\"Training Progress for\", option,\":\")\n",
    "    model_log = model.fit_generator(option[1], validation_data=validation_generator,\n",
    "              epochs=4, workers=5, use_multiprocessing=True,\n",
    "              callbacks=[checkpoints])"
   ]
  },
  {
   "cell_type": "code",
   "execution_count": null,
   "metadata": {},
   "outputs": [],
   "source": [
    "!nvidia-settings -a [gpu:0]/GPUFanControlState=0"
   ]
  },
  {
   "cell_type": "markdown",
   "metadata": {},
   "source": [
    "**Evaluation**\n",
    "\n",
    "TODO: Fix class mapping"
   ]
  },
  {
   "cell_type": "code",
   "execution_count": null,
   "metadata": {},
   "outputs": [],
   "source": [
    "\"\"\"from keras.models import load_model\n",
    "from sklearn.metrics import classification_report, confusion_matrix\n",
    "import matplotlib.pyplot as plt\n",
    "import numpy as np\n",
    "%config InlineBackend.figure_format = 'retina'\n",
    "import itertools, pickle\n",
    "\n",
    "from glob import glob\n",
    "class_names = glob(\"train_aug/*\") # Reads all the folders in which images are present\n",
    "class_names = sorted(class_names) # Sorting them\n",
    "fixed_classes = []\n",
    "for class_name in class_names:\n",
    "    fixed_classes.append(class_name[10:])\n",
    "name_id_map = dict(zip(range(len(class_names)), fixed_classes))\n",
    "og_classes = [str(x) for x in range(1,129)]"
   ]
  },
  {
   "cell_type": "code",
   "execution_count": null,
   "metadata": {},
   "outputs": [],
   "source": [
    "\"\"\"validation_datagen = ImageDataGenerator(rescale=1./255)\n",
    "\n",
    "validation_generator = validation_datagen.flow_from_directory(\n",
    "    'data2/validation', shuffle=False,\n",
    "    target_size=(299, 299),\n",
    "    batch_size=batch_size,\n",
    "    class_mode='categorical')"
   ]
  },
  {
   "cell_type": "code",
   "execution_count": null,
   "metadata": {},
   "outputs": [],
   "source": [
    "\"\"\"Y_pred = model.predict_generator(validation_generator, 6322 // batch_size+1)\n",
    "y_pred = np.argmax(Y_pred, axis=1)"
   ]
  },
  {
   "cell_type": "code",
   "execution_count": null,
   "metadata": {},
   "outputs": [],
   "source": [
    "\"\"\"corr_preds = []\n",
    "for pred in y_pred:\n",
    "    corr_preds.append(int(name_id_map[pred]))"
   ]
  },
  {
   "cell_type": "code",
   "execution_count": null,
   "metadata": {},
   "outputs": [],
   "source": [
    "\"\"\"print('Classification Report')\n",
    "print(classification_report(validation_generator.classes, y_pred, target_names=og_classes))"
   ]
  }
 ],
 "metadata": {
  "kernelspec": {
   "display_name": "Python 3",
   "language": "python",
   "name": "python3"
  },
  "language_info": {
   "codemirror_mode": {
    "name": "ipython",
    "version": 3
   },
   "file_extension": ".py",
   "mimetype": "text/x-python",
   "name": "python",
   "nbconvert_exporter": "python",
   "pygments_lexer": "ipython3",
   "version": "3.6.4"
  }
 },
 "nbformat": 4,
 "nbformat_minor": 2
}
